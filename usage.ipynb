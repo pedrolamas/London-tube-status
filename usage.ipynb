{
 "cells": [
  {
   "cell_type": "code",
   "execution_count": 1,
   "metadata": {},
   "outputs": [],
   "source": [
    "from london_tube_status import TubeData\n",
    "import pprint\n",
    "import aiohttp"
   ]
  },
  {
   "cell_type": "code",
   "execution_count": 2,
   "metadata": {},
   "outputs": [],
   "source": [
    "def print_json(json_data):\n",
    "    pprint.PrettyPrinter().pprint(json_data)"
   ]
  },
  {
   "cell_type": "code",
   "execution_count": 3,
   "metadata": {},
   "outputs": [],
   "source": [
    "async with aiohttp.ClientSession() as session:\n",
    "    tube_data = TubeData(session)\n",
    "    await tube_data.update()"
   ]
  },
  {
   "cell_type": "code",
   "execution_count": 4,
   "metadata": {},
   "outputs": [
    {
     "output_type": "stream",
     "name": "stdout",
     "text": [
      "{'Bakerloo': {'Description': 'Nothing to report', 'State': 'Good Service'},\n 'Central': {'Description': 'Nothing to report', 'State': 'Good Service'},\n 'Circle': {'Description': 'Nothing to report', 'State': 'Good Service'},\n 'DLR': {'Description': 'Nothing to report', 'State': 'Good Service'},\n 'District': {'Description': 'Nothing to report', 'State': 'Good Service'},\n 'Hammersmith & City': {'Description': 'Nothing to report',\n                        'State': 'Good Service'},\n 'Jubilee': {'Description': 'Nothing to report', 'State': 'Good Service'},\n 'London Overground': {'Description': 'LONDON OVERGROUND: Until further '\n                                      'notice, there will be a reduced service '\n                                      'during peak times on weekday London '\n                                      'Overground services to and from Bush '\n                                      'Hill Park and Enfield Town. There will '\n                                      'now be two trains per hour throughout '\n                                      'the day in place of the standard four '\n                                      'trains per hour peak service. The '\n                                      'following trains will not run: '\n                                      'Liverpool Street to Enfield Town at '\n                                      '06:45, 07:15, 07:45, 08:07, 08:45, '\n                                      '16:15, 16:45, 17:15, 17:45, 18:15 and '\n                                      '19:22. Enfield Town to Liverpool Street '\n                                      'at 06:54. 07:24, 07:54, 08:24, 08:54, '\n                                      '09:24, 17:07, 17:37, 18:07, 18:37 and '\n                                      '19:07. In addition, trains at 08:00 '\n                                      'from Liverpool Street to Cheshunt and '\n                                      'at 08:43 from Cheshunt to Liverpool '\n                                      'Street will not run. This is due to a '\n                                      'shortage of staff. *** LONDON '\n                                      'OVERGROUND: Until further notice, a '\n                                      'reduced service operates. Two trains '\n                                      'operate per hour between Richmond and '\n                                      'Willesden Junction, continuing to '\n                                      'Stratford. Six trains operate per hour '\n                                      'between Willesden Junction and '\n                                      'Stratford, with four of these trains an '\n                                      'hour operating to/from Clapham '\n                                      'Junction.',\n                       'State': 'Reduced Service'},\n 'Metropolitan': {'Description': 'Nothing to report', 'State': 'Good Service'},\n 'Northern': {'Description': 'Nothing to report', 'State': 'Good Service'},\n 'Piccadilly': {'Description': 'Nothing to report', 'State': 'Good Service'},\n 'TfL Rail': {'Description': 'Nothing to report', 'State': 'Good Service'},\n 'Victoria': {'Description': 'Nothing to report', 'State': 'Good Service'},\n 'Waterloo & City': {'Description': 'WATERLOO & CITY LINE: No service until '\n                                    'further notice.',\n                     'State': 'Planned Closure'}}\n"
     ]
    }
   ],
   "source": [
    "    print_json(tube_data.data)"
   ]
  },
  {
   "cell_type": "code",
   "execution_count": 5,
   "metadata": {},
   "outputs": [
    {
     "output_type": "execute_result",
     "data": {
      "text/plain": [
       "'2021-05-05 15:22:07'"
      ]
     },
     "metadata": {},
     "execution_count": 5
    }
   ],
   "source": [
    "    tube_data.last_updated"
   ]
  },
  {
   "cell_type": "code",
   "execution_count": null,
   "metadata": {},
   "outputs": [],
   "source": []
  }
 ],
 "metadata": {
  "kernelspec": {
   "name": "python389jvsc74a57bd061e1ad97cbc25f14d853fd2ec0acf4c946cbb7fdbaba9a514ee70939e630afc2",
   "display_name": "Python 3.8.9 64-bit"
  },
  "language_info": {
   "codemirror_mode": {
    "name": "ipython",
    "version": 3
   },
   "file_extension": ".py",
   "mimetype": "text/x-python",
   "name": "python",
   "nbconvert_exporter": "python",
   "pygments_lexer": "ipython3",
   "version": "3.8.9"
  },
  "metadata": {
   "interpreter": {
    "hash": "61e1ad97cbc25f14d853fd2ec0acf4c946cbb7fdbaba9a514ee70939e630afc2"
   }
  }
 },
 "nbformat": 4,
 "nbformat_minor": 2
}